{
 "cells": [
  {
   "cell_type": "code",
   "execution_count": 23,
   "metadata": {},
   "outputs": [],
   "source": [
    "import numpy as np \n",
    "import pandas as pd\n",
    "import matplotlib.pyplot as plt\n",
    "import seaborn as sns\n",
    "from collections import Counter\n",
    "from sklearn.model_selection import train_test_split\n",
    "from sklearn.metrics import classification_report\n",
    "from sklearn.metrics import f1_score\n",
    "from sklearn.metrics import accuracy_score\n",
    "from sklearn.metrics import recall_score\n",
    "from sklearn.linear_model import LogisticRegression\n",
    "from sklearn.ensemble import RandomForestClassifier\n",
    "from sklearn.neighbors import KNeighborsClassifier\n",
    "from sklearn.tree import DecisionTreeClassifier\n",
    "from imblearn.over_sampling import SMOTE\n",
    "from sklearn.svm import SVC\n",
    "import xgboost as xgb\n",
    "import warnings\n",
    "warnings.filterwarnings('ignore')\n"
   ]
  },
  {
   "cell_type": "code",
   "execution_count": 24,
   "metadata": {},
   "outputs": [
    {
     "data": {
      "text/plain": [
       "(10500, 5)"
      ]
     },
     "execution_count": 24,
     "metadata": {},
     "output_type": "execute_result"
    }
   ],
   "source": [
    "data=pd.read_csv(\"train.csv\")\n",
    "data.shape"
   ]
  },
  {
   "cell_type": "code",
   "execution_count": 25,
   "metadata": {},
   "outputs": [
    {
     "data": {
      "text/html": [
       "<div>\n",
       "<style scoped>\n",
       "    .dataframe tbody tr th:only-of-type {\n",
       "        vertical-align: middle;\n",
       "    }\n",
       "\n",
       "    .dataframe tbody tr th {\n",
       "        vertical-align: top;\n",
       "    }\n",
       "\n",
       "    .dataframe thead th {\n",
       "        text-align: right;\n",
       "    }\n",
       "</style>\n",
       "<table border=\"1\" class=\"dataframe\">\n",
       "  <thead>\n",
       "    <tr style=\"text-align: right;\">\n",
       "      <th></th>\n",
       "      <th>session_id</th>\n",
       "      <th>startTime</th>\n",
       "      <th>endTime</th>\n",
       "      <th>ProductList</th>\n",
       "      <th>gender</th>\n",
       "    </tr>\n",
       "  </thead>\n",
       "  <tbody>\n",
       "    <tr>\n",
       "      <th>0</th>\n",
       "      <td>u16159</td>\n",
       "      <td>15/12/14 18:11</td>\n",
       "      <td>15/12/14 18:12</td>\n",
       "      <td>A00002/B00003/C00006/D28435/;A00002/B00003/C00...</td>\n",
       "      <td>female</td>\n",
       "    </tr>\n",
       "    <tr>\n",
       "      <th>1</th>\n",
       "      <td>u10253</td>\n",
       "      <td>16/12/14 14:35</td>\n",
       "      <td>16/12/14 14:41</td>\n",
       "      <td>A00001/B00009/C00031/D29404/;A00001/B00009/C00...</td>\n",
       "      <td>male</td>\n",
       "    </tr>\n",
       "    <tr>\n",
       "      <th>2</th>\n",
       "      <td>u19037</td>\n",
       "      <td>01/12/14 15:58</td>\n",
       "      <td>01/12/14 15:58</td>\n",
       "      <td>A00002/B00001/C00020/D16944/</td>\n",
       "      <td>female</td>\n",
       "    </tr>\n",
       "    <tr>\n",
       "      <th>3</th>\n",
       "      <td>u14556</td>\n",
       "      <td>23/11/14 2:57</td>\n",
       "      <td>23/11/14 3:00</td>\n",
       "      <td>A00002/B00004/C00018/D10284/;A00002/B00004/C00...</td>\n",
       "      <td>female</td>\n",
       "    </tr>\n",
       "    <tr>\n",
       "      <th>4</th>\n",
       "      <td>u24295</td>\n",
       "      <td>17/12/14 16:44</td>\n",
       "      <td>17/12/14 16:46</td>\n",
       "      <td>A00001/B00001/C00012/D30805/;A00001/B00001/C00...</td>\n",
       "      <td>male</td>\n",
       "    </tr>\n",
       "  </tbody>\n",
       "</table>\n",
       "</div>"
      ],
      "text/plain": [
       "  session_id       startTime         endTime  \\\n",
       "0     u16159  15/12/14 18:11  15/12/14 18:12   \n",
       "1     u10253  16/12/14 14:35  16/12/14 14:41   \n",
       "2     u19037  01/12/14 15:58  01/12/14 15:58   \n",
       "3     u14556   23/11/14 2:57   23/11/14 3:00   \n",
       "4     u24295  17/12/14 16:44  17/12/14 16:46   \n",
       "\n",
       "                                         ProductList  gender  \n",
       "0  A00002/B00003/C00006/D28435/;A00002/B00003/C00...  female  \n",
       "1  A00001/B00009/C00031/D29404/;A00001/B00009/C00...    male  \n",
       "2                       A00002/B00001/C00020/D16944/  female  \n",
       "3  A00002/B00004/C00018/D10284/;A00002/B00004/C00...  female  \n",
       "4  A00001/B00001/C00012/D30805/;A00001/B00001/C00...    male  "
      ]
     },
     "execution_count": 25,
     "metadata": {},
     "output_type": "execute_result"
    }
   ],
   "source": [
    "data.head(5)"
   ]
  },
  {
   "cell_type": "code",
   "execution_count": 26,
   "metadata": {},
   "outputs": [
    {
     "data": {
      "text/plain": [
       "female    8192\n",
       "male      2308\n",
       "Name: gender, dtype: int64"
      ]
     },
     "execution_count": 26,
     "metadata": {},
     "output_type": "execute_result"
    }
   ],
   "source": [
    "#data=data.rename({\"session_id\":\"id\",\"startTime\":\"start\",\"endTime\":\"end\"},axis=\"columns\")\n",
    "data.gender.value_counts()"
   ]
  },
  {
   "cell_type": "code",
   "execution_count": 27,
   "metadata": {},
   "outputs": [
    {
     "data": {
      "text/html": [
       "<div>\n",
       "<style scoped>\n",
       "    .dataframe tbody tr th:only-of-type {\n",
       "        vertical-align: middle;\n",
       "    }\n",
       "\n",
       "    .dataframe tbody tr th {\n",
       "        vertical-align: top;\n",
       "    }\n",
       "\n",
       "    .dataframe thead th {\n",
       "        text-align: right;\n",
       "    }\n",
       "</style>\n",
       "<table border=\"1\" class=\"dataframe\">\n",
       "  <thead>\n",
       "    <tr style=\"text-align: right;\">\n",
       "      <th></th>\n",
       "      <th>session_id</th>\n",
       "      <th>startTime</th>\n",
       "      <th>endTime</th>\n",
       "      <th>ProductList</th>\n",
       "      <th>gender</th>\n",
       "    </tr>\n",
       "  </thead>\n",
       "  <tbody>\n",
       "    <tr>\n",
       "      <th>0</th>\n",
       "      <td>u16159</td>\n",
       "      <td>15/12/14 18:11</td>\n",
       "      <td>15/12/14 18:12</td>\n",
       "      <td>A00002/B00003/C00006/D28435/;A00002/B00003/C00...</td>\n",
       "      <td>female</td>\n",
       "    </tr>\n",
       "    <tr>\n",
       "      <th>1</th>\n",
       "      <td>u10253</td>\n",
       "      <td>16/12/14 14:35</td>\n",
       "      <td>16/12/14 14:41</td>\n",
       "      <td>A00001/B00009/C00031/D29404/;A00001/B00009/C00...</td>\n",
       "      <td>male</td>\n",
       "    </tr>\n",
       "    <tr>\n",
       "      <th>2</th>\n",
       "      <td>u19037</td>\n",
       "      <td>01/12/14 15:58</td>\n",
       "      <td>01/12/14 15:58</td>\n",
       "      <td>A00002/B00001/C00020/D16944/</td>\n",
       "      <td>female</td>\n",
       "    </tr>\n",
       "    <tr>\n",
       "      <th>3</th>\n",
       "      <td>u14556</td>\n",
       "      <td>23/11/14 2:57</td>\n",
       "      <td>23/11/14 3:00</td>\n",
       "      <td>A00002/B00004/C00018/D10284/;A00002/B00004/C00...</td>\n",
       "      <td>female</td>\n",
       "    </tr>\n",
       "    <tr>\n",
       "      <th>4</th>\n",
       "      <td>u24295</td>\n",
       "      <td>17/12/14 16:44</td>\n",
       "      <td>17/12/14 16:46</td>\n",
       "      <td>A00001/B00001/C00012/D30805/;A00001/B00001/C00...</td>\n",
       "      <td>male</td>\n",
       "    </tr>\n",
       "  </tbody>\n",
       "</table>\n",
       "</div>"
      ],
      "text/plain": [
       "  session_id       startTime         endTime  \\\n",
       "0     u16159  15/12/14 18:11  15/12/14 18:12   \n",
       "1     u10253  16/12/14 14:35  16/12/14 14:41   \n",
       "2     u19037  01/12/14 15:58  01/12/14 15:58   \n",
       "3     u14556   23/11/14 2:57   23/11/14 3:00   \n",
       "4     u24295  17/12/14 16:44  17/12/14 16:46   \n",
       "\n",
       "                                         ProductList  gender  \n",
       "0  A00002/B00003/C00006/D28435/;A00002/B00003/C00...  female  \n",
       "1  A00001/B00009/C00031/D29404/;A00001/B00009/C00...    male  \n",
       "2                       A00002/B00001/C00020/D16944/  female  \n",
       "3  A00002/B00004/C00018/D10284/;A00002/B00004/C00...  female  \n",
       "4  A00001/B00001/C00012/D30805/;A00001/B00001/C00...    male  "
      ]
     },
     "execution_count": 27,
     "metadata": {},
     "output_type": "execute_result"
    }
   ],
   "source": [
    "data.head()"
   ]
  },
  {
   "cell_type": "code",
   "execution_count": 28,
   "metadata": {},
   "outputs": [
    {
     "data": {
      "text/html": [
       "<div>\n",
       "<style scoped>\n",
       "    .dataframe tbody tr th:only-of-type {\n",
       "        vertical-align: middle;\n",
       "    }\n",
       "\n",
       "    .dataframe tbody tr th {\n",
       "        vertical-align: top;\n",
       "    }\n",
       "\n",
       "    .dataframe thead th {\n",
       "        text-align: right;\n",
       "    }\n",
       "</style>\n",
       "<table border=\"1\" class=\"dataframe\">\n",
       "  <thead>\n",
       "    <tr style=\"text-align: right;\">\n",
       "      <th></th>\n",
       "      <th>session_id</th>\n",
       "      <th>startTime</th>\n",
       "      <th>endTime</th>\n",
       "      <th>ProductList</th>\n",
       "    </tr>\n",
       "  </thead>\n",
       "  <tbody>\n",
       "    <tr>\n",
       "      <th>0</th>\n",
       "      <td>u16159</td>\n",
       "      <td>15/12/14 18:11</td>\n",
       "      <td>15/12/14 18:12</td>\n",
       "      <td>A00002/B00003/C00006/D28435/;A00002/B00003/C00...</td>\n",
       "    </tr>\n",
       "    <tr>\n",
       "      <th>1</th>\n",
       "      <td>u10253</td>\n",
       "      <td>16/12/14 14:35</td>\n",
       "      <td>16/12/14 14:41</td>\n",
       "      <td>A00001/B00009/C00031/D29404/;A00001/B00009/C00...</td>\n",
       "    </tr>\n",
       "    <tr>\n",
       "      <th>2</th>\n",
       "      <td>u19037</td>\n",
       "      <td>01/12/14 15:58</td>\n",
       "      <td>01/12/14 15:58</td>\n",
       "      <td>A00002/B00001/C00020/D16944/</td>\n",
       "    </tr>\n",
       "    <tr>\n",
       "      <th>3</th>\n",
       "      <td>u14556</td>\n",
       "      <td>23/11/14 2:57</td>\n",
       "      <td>23/11/14 3:00</td>\n",
       "      <td>A00002/B00004/C00018/D10284/;A00002/B00004/C00...</td>\n",
       "    </tr>\n",
       "    <tr>\n",
       "      <th>4</th>\n",
       "      <td>u24295</td>\n",
       "      <td>17/12/14 16:44</td>\n",
       "      <td>17/12/14 16:46</td>\n",
       "      <td>A00001/B00001/C00012/D30805/;A00001/B00001/C00...</td>\n",
       "    </tr>\n",
       "  </tbody>\n",
       "</table>\n",
       "</div>"
      ],
      "text/plain": [
       "  session_id       startTime         endTime  \\\n",
       "0     u16159  15/12/14 18:11  15/12/14 18:12   \n",
       "1     u10253  16/12/14 14:35  16/12/14 14:41   \n",
       "2     u19037  01/12/14 15:58  01/12/14 15:58   \n",
       "3     u14556   23/11/14 2:57   23/11/14 3:00   \n",
       "4     u24295  17/12/14 16:44  17/12/14 16:46   \n",
       "\n",
       "                                         ProductList  \n",
       "0  A00002/B00003/C00006/D28435/;A00002/B00003/C00...  \n",
       "1  A00001/B00009/C00031/D29404/;A00001/B00009/C00...  \n",
       "2                       A00002/B00001/C00020/D16944/  \n",
       "3  A00002/B00004/C00018/D10284/;A00002/B00004/C00...  \n",
       "4  A00001/B00001/C00012/D30805/;A00001/B00001/C00...  "
      ]
     },
     "execution_count": 28,
     "metadata": {},
     "output_type": "execute_result"
    }
   ],
   "source": [
    "df=data.iloc[:,:-1]\n",
    "df.head()"
   ]
  },
  {
   "cell_type": "code",
   "execution_count": 29,
   "metadata": {},
   "outputs": [],
   "source": [
    "# df = \\\n",
    "# (df.set_index(df.columns.drop('ProductList',1).tolist())\n",
    "#      .ProductList.str.split(';', expand=True)\n",
    "#      .stack()\n",
    "#      .reset_index()\n",
    "#      .rename(columns={0:'ProductList'})\n",
    "#      .loc[:, df.columns]\n",
    "# )\n",
    "\n",
    "# df.head()"
   ]
  },
  {
   "cell_type": "code",
   "execution_count": 30,
   "metadata": {},
   "outputs": [],
   "source": [
    "#<------\n",
    "#Using Three level Feature 532\n",
    "#USing two level feature 110\n",
    "#------->\n",
    "\n",
    "\n",
    "\n",
    "# def extract_data(str):\n",
    "#     count=0\n",
    "#     if \";\" in str:\n",
    "#         prd_list=str.split(\";\")\n",
    "#         while (\"\" in prd_list):\n",
    "#             prd_list.remove(\"\")\n",
    "#         count=len(prd_list)\n",
    "#        # print(prd_list)\n",
    "#         first_lv1 = prd_list[0].split(\"/\")[0]    \n",
    "#         first_lv2 = prd_list[0].split(\"/\")[1]\n",
    "#         first_lv3 = prd_list[0].split(\"/\")[2]\n",
    "#         #print(first_lv2)\n",
    "#         lv1_list =[]\n",
    "#         lv2_list =[]\n",
    "#         lv3_list =[]\n",
    "#         for item in prd_list:\n",
    "#             lv1_list.append(item.split(\"/\")[0])\n",
    "#             lv2_list.append(item.split(\"/\")[1])\n",
    "#             lv3_list.append(item.split(\"/\")[2])         \n",
    "#         #print(lv2_list)\n",
    "#         #print(lv3_list)\n",
    "#         unique_lv1 = len(set(lv1_list))\n",
    "#         #print(unique_lv1)\n",
    "#         unique_lv2 = len(set(lv2_list))\n",
    "#         unique_lv3 = len(set(lv3_list))\n",
    "#         most_freq_lv1 =  max(lv1_list, key=Counter(lv1_list).get)\n",
    "#         most_freq_lv2 =  max(lv2_list, key=Counter(lv2_list).get)\n",
    "#         most_freq_lv3 =  max(lv3_list, key=Counter(lv3_list).get)\n",
    "#         #print(most_freq_lv1)\n",
    "#     else:\n",
    "#         lv_lst = str.split(\"/\")\n",
    "#         first_lv1 = lv_lst[0]\n",
    "#         #print(lv_lst[3])\n",
    "#         first_lv2 = lv_lst[1]\n",
    "#         first_lv3 = lv_lst[1]\n",
    "#         count_item = 1\n",
    "#         unique_lv1 = 1\n",
    "#         unique_lv2 = 1\n",
    "#         unique_lv3 = 1\n",
    "#         most_freq_lv1 = first_lv1\n",
    "#         most_freq_lv2 = first_lv2\n",
    "#         #print(first_lv1)\n",
    "#        # print(first_lv2)\n",
    "#     return (count,first_lv1,first_lv2,first_lv3,unique_lv1,unique_lv2,unique_lv3,most_freq_lv1,most_freq_lv2)\n",
    "# new_col = ('NumProduct','FirstA','FirstB','FirstC','UniqueA','UniqueB','UniqueC','MostA','MostB') \n",
    "# new_col_lst = df['ProductList'].apply(lambda x: extract_data(x)) \n",
    "# new_col_df = pd.DataFrame(new_col_lst.tolist(),columns =new_col)\n",
    "# new_col_df.head()"
   ]
  },
  {
   "cell_type": "code",
   "execution_count": 31,
   "metadata": {},
   "outputs": [],
   "source": [
    "def extract_data(str):\n",
    "    count=0\n",
    "    if \";\" in str:\n",
    "        prd_list=str.split(\";\")\n",
    "        while (\"\" in prd_list):\n",
    "            prd_list.remove(\"\")\n",
    "        count=len(prd_list)\n",
    "       # print(prd_list)\n",
    "        first_lv1 = prd_list[0].split(\"/\")[0]    \n",
    "        first_lv2 = prd_list[0].split(\"/\")[1]\n",
    "        lv1_list =[]\n",
    "        lv2_list =[]\n",
    "        for item in prd_list:\n",
    "            lv1_list.append(item.split(\"/\")[0])\n",
    "            lv2_list.append(item.split(\"/\")[1])\n",
    "                \n",
    "       # print(lv1_list)\n",
    "        unique_lv1 = len(set(lv1_list))\n",
    "       # print(unique_lv1)\n",
    "        unique_lv2 = len(set(lv2_list))\n",
    "        most_freq_lv1 =  max(lv1_list, key=Counter(lv1_list).get)\n",
    "        most_freq_lv2 =  max(lv2_list, key=Counter(lv2_list).get)\n",
    "        #print(most_freq_lv1)\n",
    "    else:\n",
    "        lv_lst = str.split(\"/\")\n",
    "        first_lv1 = lv_lst[0]\n",
    "        #print(lv_lst[3])\n",
    "        first_lv2 = lv_lst[1]\n",
    "        count_item = 1\n",
    "        unique_lv1 = 1\n",
    "        unique_lv2 = 1\n",
    "        most_freq_lv1 = first_lv1\n",
    "        #print(first_lv1)\n",
    "       # print(first_lv2)\n",
    "    return (count,first_lv1,first_lv2,unique_lv1,unique_lv2,most_freq_lv1)"
   ]
  },
  {
   "cell_type": "code",
   "execution_count": 32,
   "metadata": {
    "scrolled": true
   },
   "outputs": [
    {
     "data": {
      "text/plain": [
       "(0, 'a', 'b', 1, 1, 'a')"
      ]
     },
     "execution_count": 32,
     "metadata": {},
     "output_type": "execute_result"
    }
   ],
   "source": [
    "extract_data(\"a/b/c/d\")"
   ]
  },
  {
   "cell_type": "code",
   "execution_count": 33,
   "metadata": {},
   "outputs": [
    {
     "data": {
      "text/html": [
       "<div>\n",
       "<style scoped>\n",
       "    .dataframe tbody tr th:only-of-type {\n",
       "        vertical-align: middle;\n",
       "    }\n",
       "\n",
       "    .dataframe tbody tr th {\n",
       "        vertical-align: top;\n",
       "    }\n",
       "\n",
       "    .dataframe thead th {\n",
       "        text-align: right;\n",
       "    }\n",
       "</style>\n",
       "<table border=\"1\" class=\"dataframe\">\n",
       "  <thead>\n",
       "    <tr style=\"text-align: right;\">\n",
       "      <th></th>\n",
       "      <th>NumProduct</th>\n",
       "      <th>FirstA</th>\n",
       "      <th>FirstB</th>\n",
       "      <th>UniqueA</th>\n",
       "      <th>UniqueB</th>\n",
       "      <th>MostA</th>\n",
       "    </tr>\n",
       "  </thead>\n",
       "  <tbody>\n",
       "    <tr>\n",
       "      <th>0</th>\n",
       "      <td>4</td>\n",
       "      <td>A00002</td>\n",
       "      <td>B00003</td>\n",
       "      <td>1</td>\n",
       "      <td>1</td>\n",
       "      <td>A00002</td>\n",
       "    </tr>\n",
       "    <tr>\n",
       "      <th>1</th>\n",
       "      <td>7</td>\n",
       "      <td>A00001</td>\n",
       "      <td>B00009</td>\n",
       "      <td>1</td>\n",
       "      <td>1</td>\n",
       "      <td>A00001</td>\n",
       "    </tr>\n",
       "    <tr>\n",
       "      <th>2</th>\n",
       "      <td>0</td>\n",
       "      <td>A00002</td>\n",
       "      <td>B00001</td>\n",
       "      <td>1</td>\n",
       "      <td>1</td>\n",
       "      <td>A00002</td>\n",
       "    </tr>\n",
       "    <tr>\n",
       "      <th>3</th>\n",
       "      <td>3</td>\n",
       "      <td>A00002</td>\n",
       "      <td>B00004</td>\n",
       "      <td>1</td>\n",
       "      <td>1</td>\n",
       "      <td>A00002</td>\n",
       "    </tr>\n",
       "    <tr>\n",
       "      <th>4</th>\n",
       "      <td>2</td>\n",
       "      <td>A00001</td>\n",
       "      <td>B00001</td>\n",
       "      <td>1</td>\n",
       "      <td>1</td>\n",
       "      <td>A00001</td>\n",
       "    </tr>\n",
       "  </tbody>\n",
       "</table>\n",
       "</div>"
      ],
      "text/plain": [
       "   NumProduct  FirstA  FirstB  UniqueA  UniqueB   MostA\n",
       "0           4  A00002  B00003        1        1  A00002\n",
       "1           7  A00001  B00009        1        1  A00001\n",
       "2           0  A00002  B00001        1        1  A00002\n",
       "3           3  A00002  B00004        1        1  A00002\n",
       "4           2  A00001  B00001        1        1  A00001"
      ]
     },
     "execution_count": 33,
     "metadata": {},
     "output_type": "execute_result"
    }
   ],
   "source": [
    "new_col = ('NumProduct','FirstA','FirstB','UniqueA','UniqueB','MostA') \n",
    "new_col_lst = df['ProductList'].apply(lambda x: extract_data(x)) \n",
    "new_col_df = pd.DataFrame(new_col_lst.tolist(),columns =new_col)\n",
    "new_col_df.head()"
   ]
  },
  {
   "cell_type": "code",
   "execution_count": 34,
   "metadata": {},
   "outputs": [
    {
     "data": {
      "text/html": [
       "<div>\n",
       "<style scoped>\n",
       "    .dataframe tbody tr th:only-of-type {\n",
       "        vertical-align: middle;\n",
       "    }\n",
       "\n",
       "    .dataframe tbody tr th {\n",
       "        vertical-align: top;\n",
       "    }\n",
       "\n",
       "    .dataframe thead th {\n",
       "        text-align: right;\n",
       "    }\n",
       "</style>\n",
       "<table border=\"1\" class=\"dataframe\">\n",
       "  <thead>\n",
       "    <tr style=\"text-align: right;\">\n",
       "      <th></th>\n",
       "      <th>session_id</th>\n",
       "      <th>startTime</th>\n",
       "      <th>endTime</th>\n",
       "      <th>ProductList</th>\n",
       "      <th>NumProduct</th>\n",
       "      <th>FirstA</th>\n",
       "      <th>FirstB</th>\n",
       "      <th>UniqueA</th>\n",
       "      <th>UniqueB</th>\n",
       "      <th>MostA</th>\n",
       "    </tr>\n",
       "  </thead>\n",
       "  <tbody>\n",
       "    <tr>\n",
       "      <th>0</th>\n",
       "      <td>u16159</td>\n",
       "      <td>15/12/14 18:11</td>\n",
       "      <td>15/12/14 18:12</td>\n",
       "      <td>A00002/B00003/C00006/D28435/;A00002/B00003/C00...</td>\n",
       "      <td>4</td>\n",
       "      <td>A00002</td>\n",
       "      <td>B00003</td>\n",
       "      <td>1</td>\n",
       "      <td>1</td>\n",
       "      <td>A00002</td>\n",
       "    </tr>\n",
       "    <tr>\n",
       "      <th>1</th>\n",
       "      <td>u10253</td>\n",
       "      <td>16/12/14 14:35</td>\n",
       "      <td>16/12/14 14:41</td>\n",
       "      <td>A00001/B00009/C00031/D29404/;A00001/B00009/C00...</td>\n",
       "      <td>7</td>\n",
       "      <td>A00001</td>\n",
       "      <td>B00009</td>\n",
       "      <td>1</td>\n",
       "      <td>1</td>\n",
       "      <td>A00001</td>\n",
       "    </tr>\n",
       "    <tr>\n",
       "      <th>2</th>\n",
       "      <td>u19037</td>\n",
       "      <td>01/12/14 15:58</td>\n",
       "      <td>01/12/14 15:58</td>\n",
       "      <td>A00002/B00001/C00020/D16944/</td>\n",
       "      <td>0</td>\n",
       "      <td>A00002</td>\n",
       "      <td>B00001</td>\n",
       "      <td>1</td>\n",
       "      <td>1</td>\n",
       "      <td>A00002</td>\n",
       "    </tr>\n",
       "    <tr>\n",
       "      <th>3</th>\n",
       "      <td>u14556</td>\n",
       "      <td>23/11/14 2:57</td>\n",
       "      <td>23/11/14 3:00</td>\n",
       "      <td>A00002/B00004/C00018/D10284/;A00002/B00004/C00...</td>\n",
       "      <td>3</td>\n",
       "      <td>A00002</td>\n",
       "      <td>B00004</td>\n",
       "      <td>1</td>\n",
       "      <td>1</td>\n",
       "      <td>A00002</td>\n",
       "    </tr>\n",
       "    <tr>\n",
       "      <th>4</th>\n",
       "      <td>u24295</td>\n",
       "      <td>17/12/14 16:44</td>\n",
       "      <td>17/12/14 16:46</td>\n",
       "      <td>A00001/B00001/C00012/D30805/;A00001/B00001/C00...</td>\n",
       "      <td>2</td>\n",
       "      <td>A00001</td>\n",
       "      <td>B00001</td>\n",
       "      <td>1</td>\n",
       "      <td>1</td>\n",
       "      <td>A00001</td>\n",
       "    </tr>\n",
       "  </tbody>\n",
       "</table>\n",
       "</div>"
      ],
      "text/plain": [
       "  session_id       startTime         endTime  \\\n",
       "0     u16159  15/12/14 18:11  15/12/14 18:12   \n",
       "1     u10253  16/12/14 14:35  16/12/14 14:41   \n",
       "2     u19037  01/12/14 15:58  01/12/14 15:58   \n",
       "3     u14556   23/11/14 2:57   23/11/14 3:00   \n",
       "4     u24295  17/12/14 16:44  17/12/14 16:46   \n",
       "\n",
       "                                         ProductList  NumProduct  FirstA  \\\n",
       "0  A00002/B00003/C00006/D28435/;A00002/B00003/C00...           4  A00002   \n",
       "1  A00001/B00009/C00031/D29404/;A00001/B00009/C00...           7  A00001   \n",
       "2                       A00002/B00001/C00020/D16944/           0  A00002   \n",
       "3  A00002/B00004/C00018/D10284/;A00002/B00004/C00...           3  A00002   \n",
       "4  A00001/B00001/C00012/D30805/;A00001/B00001/C00...           2  A00001   \n",
       "\n",
       "   FirstB  UniqueA  UniqueB   MostA  \n",
       "0  B00003        1        1  A00002  \n",
       "1  B00009        1        1  A00001  \n",
       "2  B00001        1        1  A00002  \n",
       "3  B00004        1        1  A00002  \n",
       "4  B00001        1        1  A00001  "
      ]
     },
     "execution_count": 34,
     "metadata": {},
     "output_type": "execute_result"
    }
   ],
   "source": [
    "df=pd.concat([data.iloc[:,:-1],new_col_df],axis=1)\n",
    "df.head()"
   ]
  },
  {
   "cell_type": "code",
   "execution_count": 35,
   "metadata": {},
   "outputs": [
    {
     "data": {
      "text/html": [
       "<div>\n",
       "<style scoped>\n",
       "    .dataframe tbody tr th:only-of-type {\n",
       "        vertical-align: middle;\n",
       "    }\n",
       "\n",
       "    .dataframe tbody tr th {\n",
       "        vertical-align: top;\n",
       "    }\n",
       "\n",
       "    .dataframe thead th {\n",
       "        text-align: right;\n",
       "    }\n",
       "</style>\n",
       "<table border=\"1\" class=\"dataframe\">\n",
       "  <thead>\n",
       "    <tr style=\"text-align: right;\">\n",
       "      <th></th>\n",
       "      <th>session_id</th>\n",
       "      <th>startTime</th>\n",
       "      <th>endTime</th>\n",
       "      <th>ProductList</th>\n",
       "      <th>NumProduct</th>\n",
       "      <th>FirstA</th>\n",
       "      <th>FirstB</th>\n",
       "      <th>UniqueA</th>\n",
       "      <th>UniqueB</th>\n",
       "      <th>MostA</th>\n",
       "      <th>duration</th>\n",
       "      <th>weekday</th>\n",
       "      <th>hour_24h</th>\n",
       "    </tr>\n",
       "  </thead>\n",
       "  <tbody>\n",
       "    <tr>\n",
       "      <th>0</th>\n",
       "      <td>u16159</td>\n",
       "      <td>2014-12-15 18:11:00</td>\n",
       "      <td>2014-12-15 18:12:00</td>\n",
       "      <td>A00002/B00003/C00006/D28435/;A00002/B00003/C00...</td>\n",
       "      <td>4</td>\n",
       "      <td>A00002</td>\n",
       "      <td>B00003</td>\n",
       "      <td>1</td>\n",
       "      <td>1</td>\n",
       "      <td>A00002</td>\n",
       "      <td>1.0</td>\n",
       "      <td>0</td>\n",
       "      <td>18</td>\n",
       "    </tr>\n",
       "    <tr>\n",
       "      <th>1</th>\n",
       "      <td>u10253</td>\n",
       "      <td>2014-12-16 14:35:00</td>\n",
       "      <td>2014-12-16 14:41:00</td>\n",
       "      <td>A00001/B00009/C00031/D29404/;A00001/B00009/C00...</td>\n",
       "      <td>7</td>\n",
       "      <td>A00001</td>\n",
       "      <td>B00009</td>\n",
       "      <td>1</td>\n",
       "      <td>1</td>\n",
       "      <td>A00001</td>\n",
       "      <td>6.0</td>\n",
       "      <td>1</td>\n",
       "      <td>14</td>\n",
       "    </tr>\n",
       "    <tr>\n",
       "      <th>2</th>\n",
       "      <td>u19037</td>\n",
       "      <td>2014-01-12 15:58:00</td>\n",
       "      <td>2014-01-12 15:58:00</td>\n",
       "      <td>A00002/B00001/C00020/D16944/</td>\n",
       "      <td>0</td>\n",
       "      <td>A00002</td>\n",
       "      <td>B00001</td>\n",
       "      <td>1</td>\n",
       "      <td>1</td>\n",
       "      <td>A00002</td>\n",
       "      <td>0.0</td>\n",
       "      <td>6</td>\n",
       "      <td>15</td>\n",
       "    </tr>\n",
       "    <tr>\n",
       "      <th>3</th>\n",
       "      <td>u14556</td>\n",
       "      <td>2014-11-23 02:57:00</td>\n",
       "      <td>2014-11-23 03:00:00</td>\n",
       "      <td>A00002/B00004/C00018/D10284/;A00002/B00004/C00...</td>\n",
       "      <td>3</td>\n",
       "      <td>A00002</td>\n",
       "      <td>B00004</td>\n",
       "      <td>1</td>\n",
       "      <td>1</td>\n",
       "      <td>A00002</td>\n",
       "      <td>3.0</td>\n",
       "      <td>6</td>\n",
       "      <td>2</td>\n",
       "    </tr>\n",
       "    <tr>\n",
       "      <th>4</th>\n",
       "      <td>u24295</td>\n",
       "      <td>2014-12-17 16:44:00</td>\n",
       "      <td>2014-12-17 16:46:00</td>\n",
       "      <td>A00001/B00001/C00012/D30805/;A00001/B00001/C00...</td>\n",
       "      <td>2</td>\n",
       "      <td>A00001</td>\n",
       "      <td>B00001</td>\n",
       "      <td>1</td>\n",
       "      <td>1</td>\n",
       "      <td>A00001</td>\n",
       "      <td>2.0</td>\n",
       "      <td>2</td>\n",
       "      <td>16</td>\n",
       "    </tr>\n",
       "  </tbody>\n",
       "</table>\n",
       "</div>"
      ],
      "text/plain": [
       "  session_id           startTime             endTime  \\\n",
       "0     u16159 2014-12-15 18:11:00 2014-12-15 18:12:00   \n",
       "1     u10253 2014-12-16 14:35:00 2014-12-16 14:41:00   \n",
       "2     u19037 2014-01-12 15:58:00 2014-01-12 15:58:00   \n",
       "3     u14556 2014-11-23 02:57:00 2014-11-23 03:00:00   \n",
       "4     u24295 2014-12-17 16:44:00 2014-12-17 16:46:00   \n",
       "\n",
       "                                         ProductList  NumProduct  FirstA  \\\n",
       "0  A00002/B00003/C00006/D28435/;A00002/B00003/C00...           4  A00002   \n",
       "1  A00001/B00009/C00031/D29404/;A00001/B00009/C00...           7  A00001   \n",
       "2                       A00002/B00001/C00020/D16944/           0  A00002   \n",
       "3  A00002/B00004/C00018/D10284/;A00002/B00004/C00...           3  A00002   \n",
       "4  A00001/B00001/C00012/D30805/;A00001/B00001/C00...           2  A00001   \n",
       "\n",
       "   FirstB  UniqueA  UniqueB   MostA  duration  weekday  hour_24h  \n",
       "0  B00003        1        1  A00002       1.0        0        18  \n",
       "1  B00009        1        1  A00001       6.0        1        14  \n",
       "2  B00001        1        1  A00002       0.0        6        15  \n",
       "3  B00004        1        1  A00002       3.0        6         2  \n",
       "4  B00001        1        1  A00001       2.0        2        16  "
      ]
     },
     "execution_count": 35,
     "metadata": {},
     "output_type": "execute_result"
    }
   ],
   "source": [
    "df['startTime'] = pd.to_datetime(df['startTime'])\n",
    "df['endTime'] = pd.to_datetime(df['endTime'])\n",
    "df['duration'] = df['endTime'] - df['startTime']\n",
    "df['duration'] = df['duration'].astype('timedelta64[m]')\n",
    "df['weekday'] = df['startTime'].dt.dayofweek\n",
    "df['hour_24h'] = df['startTime'].dt.hour\n",
    "df.head()"
   ]
  },
  {
   "cell_type": "code",
   "execution_count": 36,
   "metadata": {},
   "outputs": [
    {
     "name": "stdout",
     "output_type": "stream",
     "text": [
      "2014-12-15 18:11:00\n",
      "0\n"
     ]
    }
   ],
   "source": [
    "print(df[\"startTime\"][0])\n",
    "print(df[\"weekday\"][0])"
   ]
  },
  {
   "cell_type": "code",
   "execution_count": 37,
   "metadata": {},
   "outputs": [
    {
     "data": {
      "text/html": [
       "<div>\n",
       "<style scoped>\n",
       "    .dataframe tbody tr th:only-of-type {\n",
       "        vertical-align: middle;\n",
       "    }\n",
       "\n",
       "    .dataframe tbody tr th {\n",
       "        vertical-align: top;\n",
       "    }\n",
       "\n",
       "    .dataframe thead th {\n",
       "        text-align: right;\n",
       "    }\n",
       "</style>\n",
       "<table border=\"1\" class=\"dataframe\">\n",
       "  <thead>\n",
       "    <tr style=\"text-align: right;\">\n",
       "      <th></th>\n",
       "      <th>NumProduct</th>\n",
       "      <th>FirstA</th>\n",
       "      <th>FirstB</th>\n",
       "      <th>UniqueA</th>\n",
       "      <th>UniqueB</th>\n",
       "      <th>MostA</th>\n",
       "      <th>duration</th>\n",
       "      <th>weekday</th>\n",
       "      <th>hour_24h</th>\n",
       "    </tr>\n",
       "  </thead>\n",
       "  <tbody>\n",
       "    <tr>\n",
       "      <th>0</th>\n",
       "      <td>4</td>\n",
       "      <td>A00002</td>\n",
       "      <td>B00003</td>\n",
       "      <td>1</td>\n",
       "      <td>1</td>\n",
       "      <td>A00002</td>\n",
       "      <td>1.0</td>\n",
       "      <td>0</td>\n",
       "      <td>18</td>\n",
       "    </tr>\n",
       "    <tr>\n",
       "      <th>1</th>\n",
       "      <td>7</td>\n",
       "      <td>A00001</td>\n",
       "      <td>B00009</td>\n",
       "      <td>1</td>\n",
       "      <td>1</td>\n",
       "      <td>A00001</td>\n",
       "      <td>6.0</td>\n",
       "      <td>1</td>\n",
       "      <td>14</td>\n",
       "    </tr>\n",
       "    <tr>\n",
       "      <th>2</th>\n",
       "      <td>0</td>\n",
       "      <td>A00002</td>\n",
       "      <td>B00001</td>\n",
       "      <td>1</td>\n",
       "      <td>1</td>\n",
       "      <td>A00002</td>\n",
       "      <td>0.0</td>\n",
       "      <td>6</td>\n",
       "      <td>15</td>\n",
       "    </tr>\n",
       "    <tr>\n",
       "      <th>3</th>\n",
       "      <td>3</td>\n",
       "      <td>A00002</td>\n",
       "      <td>B00004</td>\n",
       "      <td>1</td>\n",
       "      <td>1</td>\n",
       "      <td>A00002</td>\n",
       "      <td>3.0</td>\n",
       "      <td>6</td>\n",
       "      <td>2</td>\n",
       "    </tr>\n",
       "    <tr>\n",
       "      <th>4</th>\n",
       "      <td>2</td>\n",
       "      <td>A00001</td>\n",
       "      <td>B00001</td>\n",
       "      <td>1</td>\n",
       "      <td>1</td>\n",
       "      <td>A00001</td>\n",
       "      <td>2.0</td>\n",
       "      <td>2</td>\n",
       "      <td>16</td>\n",
       "    </tr>\n",
       "  </tbody>\n",
       "</table>\n",
       "</div>"
      ],
      "text/plain": [
       "   NumProduct  FirstA  FirstB  UniqueA  UniqueB   MostA  duration  weekday  \\\n",
       "0           4  A00002  B00003        1        1  A00002       1.0        0   \n",
       "1           7  A00001  B00009        1        1  A00001       6.0        1   \n",
       "2           0  A00002  B00001        1        1  A00002       0.0        6   \n",
       "3           3  A00002  B00004        1        1  A00002       3.0        6   \n",
       "4           2  A00001  B00001        1        1  A00001       2.0        2   \n",
       "\n",
       "   hour_24h  \n",
       "0        18  \n",
       "1        14  \n",
       "2        15  \n",
       "3         2  \n",
       "4        16  "
      ]
     },
     "execution_count": 37,
     "metadata": {},
     "output_type": "execute_result"
    }
   ],
   "source": [
    "drop_lst = ['session_id', 'startTime', 'endTime', 'ProductList']\n",
    "df = df.drop(drop_lst,axis =1 )\n",
    "df.head()"
   ]
  },
  {
   "cell_type": "code",
   "execution_count": 38,
   "metadata": {},
   "outputs": [
    {
     "data": {
      "text/plain": [
       "(10500, 110)"
      ]
     },
     "execution_count": 38,
     "metadata": {},
     "output_type": "execute_result"
    }
   ],
   "source": [
    "da=pd.get_dummies(df)\n",
    "da.shape"
   ]
  },
  {
   "cell_type": "code",
   "execution_count": 39,
   "metadata": {},
   "outputs": [
    {
     "data": {
      "text/plain": [
       "(4500, 4)"
      ]
     },
     "execution_count": 39,
     "metadata": {},
     "output_type": "execute_result"
    }
   ],
   "source": [
    "test_data=pd.read_csv(\"test.csv\")\n",
    "test_data.shape"
   ]
  },
  {
   "cell_type": "code",
   "execution_count": 40,
   "metadata": {},
   "outputs": [
    {
     "data": {
      "text/html": [
       "<div>\n",
       "<style scoped>\n",
       "    .dataframe tbody tr th:only-of-type {\n",
       "        vertical-align: middle;\n",
       "    }\n",
       "\n",
       "    .dataframe tbody tr th {\n",
       "        vertical-align: top;\n",
       "    }\n",
       "\n",
       "    .dataframe thead th {\n",
       "        text-align: right;\n",
       "    }\n",
       "</style>\n",
       "<table border=\"1\" class=\"dataframe\">\n",
       "  <thead>\n",
       "    <tr style=\"text-align: right;\">\n",
       "      <th></th>\n",
       "      <th>session_id</th>\n",
       "      <th>startTime</th>\n",
       "      <th>endTime</th>\n",
       "      <th>ProductList</th>\n",
       "    </tr>\n",
       "  </thead>\n",
       "  <tbody>\n",
       "    <tr>\n",
       "      <th>0</th>\n",
       "      <td>u12112</td>\n",
       "      <td>08/12/14 13:36</td>\n",
       "      <td>08/12/14 13:36</td>\n",
       "      <td>A00002/B00003/C00006/D19956/</td>\n",
       "    </tr>\n",
       "    <tr>\n",
       "      <th>1</th>\n",
       "      <td>u19725</td>\n",
       "      <td>19/12/14 13:52</td>\n",
       "      <td>19/12/14 13:52</td>\n",
       "      <td>A00002/B00005/C00067/D02026/</td>\n",
       "    </tr>\n",
       "  </tbody>\n",
       "</table>\n",
       "</div>"
      ],
      "text/plain": [
       "  session_id       startTime         endTime                   ProductList\n",
       "0     u12112  08/12/14 13:36  08/12/14 13:36  A00002/B00003/C00006/D19956/\n",
       "1     u19725  19/12/14 13:52  19/12/14 13:52  A00002/B00005/C00067/D02026/"
      ]
     },
     "execution_count": 40,
     "metadata": {},
     "output_type": "execute_result"
    }
   ],
   "source": [
    "test_data.head(2)"
   ]
  },
  {
   "cell_type": "code",
   "execution_count": 41,
   "metadata": {},
   "outputs": [
    {
     "data": {
      "text/plain": [
       "(10500, 110)"
      ]
     },
     "execution_count": 41,
     "metadata": {},
     "output_type": "execute_result"
    }
   ],
   "source": [
    "X=da\n",
    "X.shape"
   ]
  },
  {
   "cell_type": "code",
   "execution_count": 42,
   "metadata": {},
   "outputs": [
    {
     "data": {
      "text/plain": [
       "(10500,)"
      ]
     },
     "execution_count": 42,
     "metadata": {},
     "output_type": "execute_result"
    }
   ],
   "source": [
    "Y=data['gender'].map({'female':1,'male':0})\n",
    "Y.shape"
   ]
  },
  {
   "cell_type": "code",
   "execution_count": 44,
   "metadata": {},
   "outputs": [
    {
     "data": {
      "text/html": [
       "<div>\n",
       "<style scoped>\n",
       "    .dataframe tbody tr th:only-of-type {\n",
       "        vertical-align: middle;\n",
       "    }\n",
       "\n",
       "    .dataframe tbody tr th {\n",
       "        vertical-align: top;\n",
       "    }\n",
       "\n",
       "    .dataframe thead th {\n",
       "        text-align: right;\n",
       "    }\n",
       "</style>\n",
       "<table border=\"1\" class=\"dataframe\">\n",
       "  <thead>\n",
       "    <tr style=\"text-align: right;\">\n",
       "      <th></th>\n",
       "      <th>0</th>\n",
       "      <th>1</th>\n",
       "      <th>2</th>\n",
       "      <th>3</th>\n",
       "      <th>4</th>\n",
       "      <th>5</th>\n",
       "      <th>6</th>\n",
       "      <th>7</th>\n",
       "      <th>8</th>\n",
       "      <th>9</th>\n",
       "      <th>...</th>\n",
       "      <th>100</th>\n",
       "      <th>101</th>\n",
       "      <th>102</th>\n",
       "      <th>103</th>\n",
       "      <th>104</th>\n",
       "      <th>105</th>\n",
       "      <th>106</th>\n",
       "      <th>107</th>\n",
       "      <th>108</th>\n",
       "      <th>109</th>\n",
       "    </tr>\n",
       "  </thead>\n",
       "  <tbody>\n",
       "    <tr>\n",
       "      <th>0</th>\n",
       "      <td>0.882860</td>\n",
       "      <td>-0.19649</td>\n",
       "      <td>-0.338453</td>\n",
       "      <td>-0.002686</td>\n",
       "      <td>-1.548876</td>\n",
       "      <td>0.743959</td>\n",
       "      <td>-0.421495</td>\n",
       "      <td>0.749380</td>\n",
       "      <td>-0.420084</td>\n",
       "      <td>-0.116248</td>\n",
       "      <td>...</td>\n",
       "      <td>0.748760</td>\n",
       "      <td>-0.421338</td>\n",
       "      <td>-0.115826</td>\n",
       "      <td>-0.140408</td>\n",
       "      <td>-0.10242</td>\n",
       "      <td>-0.048853</td>\n",
       "      <td>-0.044766</td>\n",
       "      <td>-0.049823</td>\n",
       "      <td>-0.067055</td>\n",
       "      <td>-0.069171</td>\n",
       "    </tr>\n",
       "    <tr>\n",
       "      <th>1</th>\n",
       "      <td>2.026460</td>\n",
       "      <td>-0.19649</td>\n",
       "      <td>-0.338453</td>\n",
       "      <td>-0.002399</td>\n",
       "      <td>-1.045278</td>\n",
       "      <td>-0.036866</td>\n",
       "      <td>2.372507</td>\n",
       "      <td>-1.334436</td>\n",
       "      <td>-0.420084</td>\n",
       "      <td>-0.116248</td>\n",
       "      <td>...</td>\n",
       "      <td>-1.335541</td>\n",
       "      <td>-0.421338</td>\n",
       "      <td>-0.115826</td>\n",
       "      <td>-0.140408</td>\n",
       "      <td>-0.10242</td>\n",
       "      <td>-0.048853</td>\n",
       "      <td>-0.044766</td>\n",
       "      <td>-0.049823</td>\n",
       "      <td>-0.067055</td>\n",
       "      <td>-0.069171</td>\n",
       "    </tr>\n",
       "    <tr>\n",
       "      <th>2</th>\n",
       "      <td>-0.641941</td>\n",
       "      <td>-0.19649</td>\n",
       "      <td>-0.338453</td>\n",
       "      <td>-0.002744</td>\n",
       "      <td>1.472713</td>\n",
       "      <td>0.158340</td>\n",
       "      <td>-0.421495</td>\n",
       "      <td>0.749380</td>\n",
       "      <td>-0.420084</td>\n",
       "      <td>-0.116248</td>\n",
       "      <td>...</td>\n",
       "      <td>0.748760</td>\n",
       "      <td>-0.421338</td>\n",
       "      <td>-0.115826</td>\n",
       "      <td>-0.140408</td>\n",
       "      <td>-0.10242</td>\n",
       "      <td>-0.048853</td>\n",
       "      <td>-0.044766</td>\n",
       "      <td>-0.049823</td>\n",
       "      <td>-0.067055</td>\n",
       "      <td>-0.069171</td>\n",
       "    </tr>\n",
       "    <tr>\n",
       "      <th>3</th>\n",
       "      <td>0.501659</td>\n",
       "      <td>-0.19649</td>\n",
       "      <td>-0.338453</td>\n",
       "      <td>-0.002571</td>\n",
       "      <td>1.472713</td>\n",
       "      <td>-2.379343</td>\n",
       "      <td>-0.421495</td>\n",
       "      <td>0.749380</td>\n",
       "      <td>-0.420084</td>\n",
       "      <td>-0.116248</td>\n",
       "      <td>...</td>\n",
       "      <td>0.748760</td>\n",
       "      <td>-0.421338</td>\n",
       "      <td>-0.115826</td>\n",
       "      <td>-0.140408</td>\n",
       "      <td>-0.10242</td>\n",
       "      <td>-0.048853</td>\n",
       "      <td>-0.044766</td>\n",
       "      <td>-0.049823</td>\n",
       "      <td>-0.067055</td>\n",
       "      <td>-0.069171</td>\n",
       "    </tr>\n",
       "    <tr>\n",
       "      <th>4</th>\n",
       "      <td>0.120459</td>\n",
       "      <td>-0.19649</td>\n",
       "      <td>-0.338453</td>\n",
       "      <td>-0.002629</td>\n",
       "      <td>-0.541680</td>\n",
       "      <td>0.353547</td>\n",
       "      <td>2.372507</td>\n",
       "      <td>-1.334436</td>\n",
       "      <td>-0.420084</td>\n",
       "      <td>-0.116248</td>\n",
       "      <td>...</td>\n",
       "      <td>-1.335541</td>\n",
       "      <td>-0.421338</td>\n",
       "      <td>-0.115826</td>\n",
       "      <td>-0.140408</td>\n",
       "      <td>-0.10242</td>\n",
       "      <td>-0.048853</td>\n",
       "      <td>-0.044766</td>\n",
       "      <td>-0.049823</td>\n",
       "      <td>-0.067055</td>\n",
       "      <td>-0.069171</td>\n",
       "    </tr>\n",
       "  </tbody>\n",
       "</table>\n",
       "<p>5 rows × 110 columns</p>\n",
       "</div>"
      ],
      "text/plain": [
       "        0        1         2         3         4         5         6    \\\n",
       "0  0.882860 -0.19649 -0.338453 -0.002686 -1.548876  0.743959 -0.421495   \n",
       "1  2.026460 -0.19649 -0.338453 -0.002399 -1.045278 -0.036866  2.372507   \n",
       "2 -0.641941 -0.19649 -0.338453 -0.002744  1.472713  0.158340 -0.421495   \n",
       "3  0.501659 -0.19649 -0.338453 -0.002571  1.472713 -2.379343 -0.421495   \n",
       "4  0.120459 -0.19649 -0.338453 -0.002629 -0.541680  0.353547  2.372507   \n",
       "\n",
       "        7         8         9    ...       100       101       102       103  \\\n",
       "0  0.749380 -0.420084 -0.116248  ...  0.748760 -0.421338 -0.115826 -0.140408   \n",
       "1 -1.334436 -0.420084 -0.116248  ... -1.335541 -0.421338 -0.115826 -0.140408   \n",
       "2  0.749380 -0.420084 -0.116248  ...  0.748760 -0.421338 -0.115826 -0.140408   \n",
       "3  0.749380 -0.420084 -0.116248  ...  0.748760 -0.421338 -0.115826 -0.140408   \n",
       "4 -1.334436 -0.420084 -0.116248  ... -1.335541 -0.421338 -0.115826 -0.140408   \n",
       "\n",
       "       104       105       106       107       108       109  \n",
       "0 -0.10242 -0.048853 -0.044766 -0.049823 -0.067055 -0.069171  \n",
       "1 -0.10242 -0.048853 -0.044766 -0.049823 -0.067055 -0.069171  \n",
       "2 -0.10242 -0.048853 -0.044766 -0.049823 -0.067055 -0.069171  \n",
       "3 -0.10242 -0.048853 -0.044766 -0.049823 -0.067055 -0.069171  \n",
       "4 -0.10242 -0.048853 -0.044766 -0.049823 -0.067055 -0.069171  \n",
       "\n",
       "[5 rows x 110 columns]"
      ]
     },
     "execution_count": 44,
     "metadata": {},
     "output_type": "execute_result"
    }
   ],
   "source": [
    "\n",
    "newx=da.iloc[:,:].values\n",
    "newy=Y.values\n",
    "newy.shape\n",
    "newx=StandardScaler().fit_transform(newx)\n",
    "newx=pd.DataFrame(newx)\n",
    "newx.head()\n"
   ]
  },
  {
   "cell_type": "code",
   "execution_count": null,
   "metadata": {},
   "outputs": [],
   "source": []
  },
  {
   "cell_type": "code",
   "execution_count": 45,
   "metadata": {},
   "outputs": [],
   "source": [
    "# from sklearn.decomposition import PCA\n",
    "# pca = PCA()\n",
    "# x_pca = pca.fit_transform(newx)\n",
    "# x_pca = pd.DataFrame(x_pca)\n",
    "# x_pca.head()"
   ]
  },
  {
   "cell_type": "code",
   "execution_count": 46,
   "metadata": {},
   "outputs": [],
   "source": [
    "# explained_variance = pca.explained_variance_ratio_\n",
    "# count=0\n",
    "# for i in explained_variance:\n",
    "#     if(i>0.03):\n",
    "#         print(count,explained_variance)"
   ]
  },
  {
   "cell_type": "code",
   "execution_count": 47,
   "metadata": {},
   "outputs": [],
   "source": [
    "xtrain,xtest,ytrain,ytest=train_test_split(X,Y,test_size=0.25,random_state=4)"
   ]
  },
  {
   "cell_type": "code",
   "execution_count": 48,
   "metadata": {},
   "outputs": [
    {
     "data": {
      "text/plain": [
       "(7875, 110)"
      ]
     },
     "execution_count": 48,
     "metadata": {},
     "output_type": "execute_result"
    }
   ],
   "source": [
    "xtrain.shape"
   ]
  },
  {
   "cell_type": "code",
   "execution_count": 49,
   "metadata": {},
   "outputs": [
    {
     "data": {
      "text/plain": [
       "(2625,)"
      ]
     },
     "execution_count": 49,
     "metadata": {},
     "output_type": "execute_result"
    }
   ],
   "source": [
    "ytest.shape"
   ]
  },
  {
   "cell_type": "code",
   "execution_count": 50,
   "metadata": {},
   "outputs": [],
   "source": [
    "#oversampling as male:female is 4:1\n",
    "\n",
    "sm = SMOTE(random_state=12,)\n",
    "xtrain, ytrain = sm.fit_sample(xtrain, ytrain)"
   ]
  },
  {
   "cell_type": "markdown",
   "metadata": {},
   "source": [
    "## logistic regression"
   ]
  },
  {
   "cell_type": "code",
   "execution_count": 51,
   "metadata": {},
   "outputs": [
    {
     "data": {
      "text/plain": [
       "LogisticRegression(C=1.0, class_weight=None, dual=False, fit_intercept=True,\n",
       "                   intercept_scaling=1, l1_ratio=None, max_iter=100,\n",
       "                   multi_class='auto', n_jobs=None, penalty='l2',\n",
       "                   random_state=None, solver='lbfgs', tol=0.0001, verbose=0,\n",
       "                   warm_start=False)"
      ]
     },
     "execution_count": 51,
     "metadata": {},
     "output_type": "execute_result"
    }
   ],
   "source": [
    "\n",
    "logmodel=LogisticRegression()\n",
    "logmodel.fit(xtrain,ytrain)"
   ]
  },
  {
   "cell_type": "code",
   "execution_count": 52,
   "metadata": {},
   "outputs": [
    {
     "name": "stdout",
     "output_type": "stream",
     "text": [
      "0.8990291262135922\n",
      "0.8415238095238096\n"
     ]
    }
   ],
   "source": [
    "prediction=logmodel.predict(xtest)\n",
    "print(f1_score(prediction,ytest))\n",
    "print(accuracy_score(prediction,ytest))"
   ]
  },
  {
   "cell_type": "markdown",
   "metadata": {},
   "source": [
    "## knn\n"
   ]
  },
  {
   "cell_type": "code",
   "execution_count": 53,
   "metadata": {},
   "outputs": [
    {
     "data": {
      "text/plain": [
       "KNeighborsClassifier(algorithm='auto', leaf_size=30, metric='minkowski',\n",
       "                     metric_params=None, n_jobs=None, n_neighbors=5, p=2,\n",
       "                     weights='uniform')"
      ]
     },
     "execution_count": 53,
     "metadata": {},
     "output_type": "execute_result"
    }
   ],
   "source": [
    "\n",
    "knn=KNeighborsClassifier(n_neighbors=5)\n",
    "knn.fit(xtrain,ytrain)"
   ]
  },
  {
   "cell_type": "code",
   "execution_count": 54,
   "metadata": {},
   "outputs": [
    {
     "name": "stdout",
     "output_type": "stream",
     "text": [
      "0.8516063233044365\n"
     ]
    }
   ],
   "source": [
    "predictionknn=knn.predict(xtest)\n",
    "print(f1_score(predictionknn,ytest))"
   ]
  },
  {
   "cell_type": "markdown",
   "metadata": {},
   "source": [
    "## SVM"
   ]
  },
  {
   "cell_type": "code",
   "execution_count": null,
   "metadata": {},
   "outputs": [],
   "source": [
    "\n",
    "svc = SVC(kernel='linear')\n",
    "svc.fit(xtrain, ytrain)\n"
   ]
  },
  {
   "cell_type": "code",
   "execution_count": null,
   "metadata": {},
   "outputs": [],
   "source": [
    "predictionk=svc.predict(xtest)\n",
    "print(f1_score(predictionk,ytest))"
   ]
  },
  {
   "cell_type": "markdown",
   "metadata": {},
   "source": [
    "## dt"
   ]
  },
  {
   "cell_type": "code",
   "execution_count": 55,
   "metadata": {},
   "outputs": [],
   "source": [
    "\n",
    "dt = DecisionTreeClassifier(max_depth=7)\n",
    "m = dt.fit(xtrain, ytrain)"
   ]
  },
  {
   "cell_type": "code",
   "execution_count": 56,
   "metadata": {},
   "outputs": [
    {
     "name": "stdout",
     "output_type": "stream",
     "text": [
      "0.9172967863894139\n"
     ]
    }
   ],
   "source": [
    "predictiondt=dt.predict(xtest)\n",
    "print(f1_score(predictiondt,ytest))"
   ]
  },
  {
   "cell_type": "markdown",
   "metadata": {},
   "source": [
    "## randomtreeclassifier"
   ]
  },
  {
   "cell_type": "code",
   "execution_count": 57,
   "metadata": {},
   "outputs": [
    {
     "data": {
      "text/plain": [
       "RandomForestClassifier(bootstrap=True, ccp_alpha=0.0,\n",
       "                       class_weight={0: 0.1, 1: 0.3}, criterion='gini',\n",
       "                       max_depth=None, max_features='auto', max_leaf_nodes=None,\n",
       "                       max_samples=None, min_impurity_decrease=0.0,\n",
       "                       min_impurity_split=None, min_samples_leaf=1,\n",
       "                       min_samples_split=2, min_weight_fraction_leaf=0.0,\n",
       "                       n_estimators=100, n_jobs=None, oob_score=False,\n",
       "                       random_state=102, verbose=0, warm_start=False)"
      ]
     },
     "execution_count": 57,
     "metadata": {},
     "output_type": "execute_result"
    }
   ],
   "source": [
    "\n",
    "rfc= RandomForestClassifier(class_weight = {1:0.3,0:.1},random_state=102)\n",
    "rfc.fit(xtrain,ytrain)"
   ]
  },
  {
   "cell_type": "code",
   "execution_count": 58,
   "metadata": {},
   "outputs": [
    {
     "data": {
      "text/plain": [
       "0.895673076923077"
      ]
     },
     "execution_count": 58,
     "metadata": {},
     "output_type": "execute_result"
    }
   ],
   "source": [
    "rfpredict=rfc.predict(xtest)\n",
    "f1_score(rfpredict,ytest)"
   ]
  },
  {
   "cell_type": "markdown",
   "metadata": {},
   "source": [
    "## XGBOOST"
   ]
  },
  {
   "cell_type": "code",
   "execution_count": null,
   "metadata": {},
   "outputs": [],
   "source": []
  },
  {
   "cell_type": "code",
   "execution_count": null,
   "metadata": {},
   "outputs": [],
   "source": [
    "D_train = xgb.DMatrix(xtrain, label=ytrain)\n",
    "D_test = xgb.DMatrix(xtest, label=ytest)"
   ]
  },
  {
   "cell_type": "code",
   "execution_count": null,
   "metadata": {},
   "outputs": [],
   "source": [
    "param = {\n",
    "    'eta': 0.3, \n",
    "    'max_depth': 3,  \n",
    "    'objective': 'multi:softprob',  \n",
    "    'num_class': 3} \n",
    "steps = 20 \n",
    "\n",
    "model = xgb.train(param, D_train, steps)"
   ]
  },
  {
   "cell_type": "code",
   "execution_count": null,
   "metadata": {},
   "outputs": [],
   "source": [
    "preds = model.predict(D_test)\n",
    "best_preds = np.asarray([np.argmax(line) for line in preds])\n",
    "print(f1_score(ytest, best_preds))"
   ]
  },
  {
   "cell_type": "markdown",
   "metadata": {},
   "source": []
  }
 ],
 "metadata": {
  "kernelspec": {
   "display_name": "Python 3",
   "language": "python",
   "name": "python3"
  }
 },
 "nbformat": 4,
 "nbformat_minor": 2
}
